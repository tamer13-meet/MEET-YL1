{
 "metadata": {
  "name": ""
 },
 "nbformat": 3,
 "nbformat_minor": 0,
 "worksheets": [
  {
   "cells": [
    {
     "cell_type": "code",
     "collapsed": false,
     "input": [
      "import csv"
     ],
     "language": "python",
     "metadata": {},
     "outputs": [],
     "prompt_number": 8
    },
    {
     "cell_type": "code",
     "collapsed": false,
     "input": [
      "f = open('animal.csv', 'rb')\n",
      "reader = csv.reader(f)\n",
      "rownum = 0\n",
      "name = []\n",
      "body_weight = []\n",
      "brain_weight = []\n",
      "for row in reader:\n",
      "    if rownum == 0:\n",
      "        header = row\n",
      "    else:\n",
      "        r = map(float, row[1:])\n",
      "        body_weight.append(r[0])\n",
      "        brain_weight.append(r[1])\n",
      "    rownum += 1\n",
      "f.close()"
     ],
     "language": "python",
     "metadata": {},
     "outputs": [
      {
       "output_type": "stream",
       "stream": "stdout",
       "text": [
        "[5.0, 10.0, 23.0, 23.0, 48.0, 60.0, 75.0, 101.0, 104.0, 120.0, 122.0, 200.0, 280.0, 425.0, 550.0, 750.0, 785.0, 900.0, 920.0, 1000.0, 1040.0, 1350.0, 1400.0, 1410.0, 1620.0, 1700.0, 2000.0, 2500.0, 3000.0, 3300.0, 3385.0, 3500.0, 3500.0, 3600.0, 4235.0, 4288.0, 14830.0, 27660.0, 35000.0, 36330.0, 55500.0, 60000.0, 85000.0, 100000.0, 160000.0, 187100.0, 192000.0, 200000.0, 250000.0, 400000.0, 465000.0, 521000.0, 529000.0, 2000000.0, 2300000.0, 2547000.0, 3400000.0, 5000000.0, 6654000.0, 7700000.0, 9400000.0, 11700000.0, 58059000.0, 87000000.0]\n",
        "[0.14, 0.25, 0.3, 0.4, 0.33, 1.0, 1.2, 4.0, 2.5, 1.0, 3.0, 5.0, 1.9, 6.4, 2.4, 12.3, 3.5, 2.6, 5.7, 6.6, 5.5, 8.1, 12.5, 17.5, 11.4, 6.3, 12.3, 12.1, 25.0, 25.6, 44.5, 10.8, 3.9, 21.0, 50.4, 39.2, 98.2, 115.0, 56.0, 119.5, 175.0, 81.0, 325.0, 157.0, 169.0, 419.0, 180.0, 30.0, 490.0, 46.0, 423.0, 655.0, 680.0, 56.0, 335.0, 4603.0, 300.0, 250.0, 5712.0, 404.0, 140.0, 100.0, 6800.0, 309.0]\n"
       ]
      }
     ],
     "prompt_number": 25
    },
    {
     "cell_type": "code",
     "collapsed": false,
     "input": [
      "from pylab import *"
     ],
     "language": "python",
     "metadata": {},
     "outputs": [],
     "prompt_number": 10
    },
    {
     "cell_type": "code",
     "collapsed": false,
     "input": [
      "scatter(body_weight, brain_weight)"
     ],
     "language": "python",
     "metadata": {},
     "outputs": [
      {
       "metadata": {},
       "output_type": "pyout",
       "prompt_number": 32,
       "text": [
        "<matplotlib.collections.PathCollection at 0xc0fe2cc>"
       ]
      },
      {
       "metadata": {},
       "output_type": "display_data",
       "png": "[encoded data removed]",
       "text": [
        "<matplotlib.figure.Figure at 0xbf8a40c>"
       ]
      }
     ],
     "prompt_number": 32
    },
    {
     "cell_type": "code",
     "collapsed": false,
     "input": [],
     "language": "python",
     "metadata": {},
     "outputs": []
    }
   ],
   "metadata": {}
  }
 ]
}